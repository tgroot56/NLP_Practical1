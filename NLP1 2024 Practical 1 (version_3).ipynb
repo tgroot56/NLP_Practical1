{
 "cells": [
  {
   "cell_type": "markdown",
   "metadata": {
    "id": "1-aRiOgl4nHg"
   },
   "source": [
    "------\n",
    "**You cannot save any changes you make to this file, so please make sure to save it on your Google Colab drive or download it as a .ipynb file.**\n",
    "\n",
    "------\n",
    "\n"
   ]
  },
  {
   "cell_type": "markdown",
   "metadata": {
    "id": "lIZrAUx57vsM"
   },
   "source": [
    "Practical 1: Sentiment Detection in Movie Reviews\n",
    "========================================\n",
    "\n"
   ]
  },
  {
   "cell_type": "markdown",
   "metadata": {
    "id": "J4kXPMhyngZW"
   },
   "source": [
    "This practical concerns detecting sentiment in movie reviews. This is a typical NLP classification task.\n",
    "In [this file](https://gist.githubusercontent.com/bastings/d47423301cca214e3930061a5a75e177/raw/5113687382919e22b1f09ce71a8fecd1687a5760/reviews.json) (80MB) you will find 1000 positive and 1000 negative **movie reviews**.\n",
    "Each review is a **document** and consists of one or more sentences.\n",
    "\n",
    "To prepare yourself for this practical, you should\n",
    "have a look at a few of these texts to understand the difficulties of\n",
    "the task: how might one go about classifying the texts? You will write\n",
    "code that decides whether a movie review conveys positive or\n",
    "negative sentiment.\n",
    "\n",
    "Please make sure you have read the following paper:\n",
    "\n",
    ">   Bo Pang, Lillian Lee, and Shivakumar Vaithyanathan\n",
    "(2002).\n",
    "[Thumbs up? Sentiment Classification using Machine Learning\n",
    "Techniques](https://dl.acm.org/citation.cfm?id=1118704). EMNLP.\n",
    "\n",
    "Bo Pang et al. introduced the movie review sentiment\n",
    "classification task, and the above paper was one of the first papers on\n",
    "the topic. The first version of your sentiment classifier will do\n",
    "something similar to Pang et al.'s system. If you have questions about it,\n",
    "you should resolve you doubts as soon as possible with your TA.\n"
   ]
  },
  {
   "cell_type": "markdown",
   "metadata": {
    "id": "cb7errgRASzZ"
   },
   "source": [
    "**Advice**\n",
    "\n",
    "Please read through the entire practical and familiarise\n",
    "yourself with all requirements before you start coding or otherwise\n",
    "solving the tasks. Writing clean and concise code can make the difference\n",
    "between solving the assignment in a matter of hours, and taking days to\n",
    "run all experiments.\n",
    "\n",
    "\n",
    "**Implementation**\n",
    "\n",
    "While we inserted code cells to indicate where you should implement your own code, please feel free to add/remove code blocks where you see fit (but make sure that the general structure of the assignment is preserved). Also, please keep in mind that it is always good practice to structure your code properly, e.g., by implementing separate classes and functions that can be reused. **Make sure you run all your code before submitting the notebook, and do not leave unnecessary print statements / cells in your notebook that are not intended for the grader.**\n",
    "\n",
    "## Environment\n",
    "\n",
    "All code should be written in **Python 3**.\n",
    "This is the default in Google Colab."
   ]
  },
  {
   "cell_type": "code",
   "execution_count": 1,
   "metadata": {
    "colab": {
     "base_uri": "https://localhost:8080/"
    },
    "executionInfo": {
     "elapsed": 21,
     "status": "ok",
     "timestamp": 1698047665308,
     "user": {
      "displayName": "XUE LI",
      "userId": "02386889076941396043"
     },
     "user_tz": -120
    },
    "id": "SaZnxptMJiD7",
    "outputId": "18c3a760-90b6-4d90-e507-aba57841ae23"
   },
   "outputs": [
    {
     "name": "stdout",
     "output_type": "stream",
     "text": [
      "Python 3.12.4\n"
     ]
    }
   ],
   "source": [
    "!python --version"
   ]
  },
  {
   "cell_type": "markdown",
   "metadata": {
    "id": "BYZyIF7lJnGn"
   },
   "source": [
    "If you want to run code on your own computer, then download this notebook through `File -> Download .ipynb`.\n",
    "The easiest way to\n",
    "install Python is through downloading\n",
    "[Anaconda](https://www.anaconda.com/download).\n",
    "After installation, you can start the notebook by typing `jupyter notebook filename.ipynb`.\n",
    "You can also use an IDE\n",
    "such as [PyCharm](https://www.jetbrains.com/pycharm/download/) to make\n",
    "coding and debugging easier. It is good practice to create a [virtual\n",
    "environment](https://docs.python.org/3/tutorial/venv.html) for this\n",
    "project, so that any Python packages don’t interfere with other\n",
    "projects.\n",
    "\n",
    "\n",
    "**Learning Python 3**\n",
    "\n",
    "If you are new to Python 3, you may want to check out a few of these resources:\n",
    "- https://learnxinyminutes.com/docs/python3/\n",
    "- https://www.learnpython.org/\n",
    "- https://docs.python.org/3/tutorial/"
   ]
  },
  {
   "cell_type": "code",
   "execution_count": 1,
   "metadata": {
    "id": "hok-BFu9lGoK"
   },
   "outputs": [],
   "source": [
    "import math\n",
    "import os\n",
    "import sys\n",
    "from subprocess import call\n",
    "from nltk import FreqDist\n",
    "from nltk.util import ngrams\n",
    "from nltk.stem.porter import PorterStemmer\n",
    "import sklearn as sk\n",
    "# from google.colab import drive\n",
    "import pickle\n",
    "import json\n",
    "from collections import Counter\n",
    "import requests\n",
    "import matplotlib.pyplot as plt\n",
    "import numpy as np"
   ]
  },
  {
   "cell_type": "markdown",
   "metadata": {
    "id": "bXWyGHwE-ieQ"
   },
   "source": [
    "## Loading the data\n",
    "\n",
    "**Download the sentiment lexicon and the movie reviews dataset.**"
   ]
  },
  {
   "cell_type": "code",
   "execution_count": 3,
   "metadata": {},
   "outputs": [
    {
     "name": "stdout",
     "output_type": "stream",
     "text": [
      "Requirement already satisfied: wget in c:\\users\\tobia\\anaconda3\\lib\\site-packages (3.2)\n"
     ]
    }
   ],
   "source": [
    "!pip install wget"
   ]
  },
  {
   "cell_type": "code",
   "execution_count": 4,
   "metadata": {
    "colab": {
     "base_uri": "https://localhost:8080/"
    },
    "executionInfo": {
     "elapsed": 1808,
     "status": "ok",
     "timestamp": 1698047686292,
     "user": {
      "displayName": "XUE LI",
      "userId": "02386889076941396043"
     },
     "user_tz": -120
    },
    "id": "lm-rakqtlMOT",
    "outputId": "1b6b1152-50b7-4161-aab2-03da318d6981"
   },
   "outputs": [
    {
     "name": "stderr",
     "output_type": "stream",
     "text": [
      "Traceback (most recent call last):\n",
      "  File \"<frozen runpy>\", line 198, in _run_module_as_main\n",
      "  File \"<frozen runpy>\", line 88, in _run_code\n",
      "  File \"c:\\Users\\tobia\\anaconda3\\Lib\\site-packages\\wget.py\", line 568, in <module>\n",
      "    filename = download(args[0], out=options.output)\n",
      "               ^^^^^^^^^^^^^^^^^^^^^^^^^^^^^^^^^^^^^\n",
      "  File \"c:\\Users\\tobia\\anaconda3\\Lib\\site-packages\\wget.py\", line 533, in download\n",
      "    filename = filename_fix_existing(filename)\n",
      "               ^^^^^^^^^^^^^^^^^^^^^^^^^^^^^^^\n",
      "  File \"c:\\Users\\tobia\\anaconda3\\Lib\\site-packages\\wget.py\", line 269, in filename_fix_existing\n",
      "    name, ext = filename.rsplit('.', 1)\n",
      "    ^^^^^^^^^\n",
      "ValueError: not enough values to unpack (expected 2, got 1)\n"
     ]
    },
    {
     "name": "stdout",
     "output_type": "stream",
     "text": [
      "\n",
      "Saved under reviews (1).json\n"
     ]
    }
   ],
   "source": [
    "# download sentiment lexicon\n",
    "!python -m wget https://gist.githubusercontent.com/bastings/d6f99dcb6c82231b94b013031356ba05/raw/f80a0281eba8621b122012c89c8b5e2200b39fd6/sent_lexicon\n",
    "# download review data\n",
    "!python -m wget https://gist.githubusercontent.com/bastings/d47423301cca214e3930061a5a75e177/raw/5113687382919e22b1f09ce71a8fecd1687a5760/reviews.json"
   ]
  },
  {
   "cell_type": "markdown",
   "metadata": {
    "id": "AkPwuHp5LSuQ"
   },
   "source": [
    "**Load the movie reviews.**\n",
    "\n",
    "Each word in a review comes with its part-of-speech tag. For documentation on POS-tags, see https://catalog.ldc.upenn.edu/docs/LDC99T42/tagguid1.pdf.\n"
   ]
  },
  {
   "cell_type": "code",
   "execution_count": 3,
   "metadata": {
    "colab": {
     "base_uri": "https://localhost:8080/"
    },
    "executionInfo": {
     "elapsed": 3917,
     "status": "ok",
     "timestamp": 1698047715771,
     "user": {
      "displayName": "XUE LI",
      "userId": "02386889076941396043"
     },
     "user_tz": -120
    },
    "id": "careEKj-mRpl",
    "outputId": "a6f3c385-5106-49ec-be89-4aff971eb05b"
   },
   "outputs": [
    {
     "name": "stdout",
     "output_type": "stream",
     "text": [
      "Total number of reviews: 2000 \n",
      "\n",
      "0 NEG 29\n",
      "Two/CD teen/JJ couples/NNS go/VBP to/TO a/DT church/NN party/NN ,/, drink/NN and/CC then/RB drive/NN ./.\n",
      "1 NEG 11\n",
      "Damn/JJ that/IN Y2K/CD bug/NN ./.\n",
      "2 NEG 24\n",
      "It/PRP is/VBZ movies/NNS like/IN these/DT that/WDT make/VBP a/DT jaded/JJ movie/NN viewer/NN thankful/JJ for/IN the/DT invention/NN of/IN the/DT Timex/NNP IndiGlo/NNP watch/NN ./.\n",
      "3 NEG 19\n",
      "QUEST/NN FOR/IN CAMELOT/NNP ``/`` Quest/NNP for/IN Camelot/NNP ''/'' is/VBZ Warner/NNP Bros./NNP '/POS first/JJ feature-length/JJ ,/, fully-animated/JJ attempt/NN to/TO steal/VB clout/NN from/IN Disney/NNP 's/POS cartoon/NN empire/NN ,/, but/CC the/DT mouse/NN has/VBZ no/DT reason/NN to/TO be/VB worried/VBN ./.\n",
      "4 NEG 38\n",
      "Synopsis/NNPS :/: A/DT mentally/RB unstable/JJ man/NN undergoing/VBG psychotherapy/NN saves/VBZ a/DT boy/NN from/IN a/DT potentially/RB fatal/JJ accident/NN and/CC then/RB falls/VBZ in/IN love/NN with/IN the/DT boy/NN 's/POS mother/NN ,/, a/DT fledgling/NN restauranteur/NN ./.\n",
      "\n",
      "Number of word types: 47743\n",
      "Number of word tokens: 1512359\n",
      "\n",
      "Most common tokens:\n",
      "         , :    77842\n",
      "       the :    75948\n",
      "         . :    59027\n",
      "         a :    37583\n",
      "       and :    35235\n",
      "        of :    33864\n",
      "        to :    31601\n",
      "        is :    25972\n",
      "        in :    21563\n",
      "        's :    18043\n",
      "        it :    15904\n",
      "      that :    15820\n",
      "     -rrb- :    11768\n",
      "     -lrb- :    11670\n",
      "        as :    11312\n",
      "      with :    10739\n",
      "       for :     9816\n",
      "       his :     9542\n",
      "      this :     9497\n",
      "      film :     9404\n"
     ]
    }
   ],
   "source": [
    "# file structure:\n",
    "# [\n",
    "#  {\"cv\": integer, \"sentiment\": str, \"content\": list}\n",
    "#  {\"cv\": integer, \"sentiment\": str, \"content\": list}\n",
    "#   ..\n",
    "# ]\n",
    "# where `content` is a list of sentences,\n",
    "# with a sentence being a list of (token, pos_tag) pairs.\n",
    "\n",
    "\n",
    "with open(\"reviews.json\", mode=\"r\", encoding=\"utf-8\") as f:\n",
    "  reviews = json.load(f)\n",
    "\n",
    "print(\"Total number of reviews:\", len(reviews), '\\n')\n",
    "\n",
    "def print_sentence_with_pos(s):\n",
    "  print(\" \".join(\"%s/%s\" % (token, pos_tag) for token, pos_tag in s))\n",
    "\n",
    "for i, r in enumerate(reviews):\n",
    "  print(r[\"cv\"], r[\"sentiment\"], len(r[\"content\"]))  # cv, sentiment, num sents\n",
    "  print_sentence_with_pos(r[\"content\"][0])\n",
    "  if i == 4:\n",
    "    break\n",
    "\n",
    "c = Counter()\n",
    "for review in reviews:\n",
    "  for sentence in review[\"content\"]:\n",
    "    for token, pos_tag in sentence:\n",
    "      c[token.lower()] += 1\n",
    "\n",
    "print(\"\\nNumber of word types:\", len(c))\n",
    "print(\"Number of word tokens:\", sum(c.values()))\n",
    "\n",
    "print(\"\\nMost common tokens:\")\n",
    "for token, count in c.most_common(20):\n",
    "  print(\"%10s : %8d\" % (token, count))\n"
   ]
  },
  {
   "cell_type": "markdown",
   "metadata": {
    "id": "E6PWaEoh8B34"
   },
   "source": [
    "#(1) Lexicon-based approach (3.5pts)\n",
    "\n"
   ]
  },
  {
   "cell_type": "markdown",
   "metadata": {
    "id": "JsTSMb6ma4E8"
   },
   "source": [
    "A traditional approach to classify documents according to their sentiment is the lexicon-based approach. To implement this approach, you need a **sentiment lexicon**, i.e., a list of words annotated with a sentiment label (e.g., positive and negative, or a score from 0 to 5).\n",
    "\n",
    "In this practical, you will use the sentiment\n",
    "lexicon released by Wilson et al. (2005).\n",
    "\n",
    "> Theresa Wilson, Janyce Wiebe, and Paul Hoffmann\n",
    "(2005). [Recognizing Contextual Polarity in Phrase-Level Sentiment\n",
    "Analysis](http://www.aclweb.org/anthology/H/H05/H05-1044.pdf). HLT-EMNLP.\n",
    "\n",
    "Pay attention to all the information available in the sentiment lexicon. The field *word1* contains the lemma, *priorpolarity* contains the sentiment label (positive, negative, both, or neutral), *type* gives you the magnitude of the word's sentiment (strong or weak), and *pos1* gives you the part-of-speech tag of the lemma. Some lemmas can have multiple part-of-speech tags and thus multiple entries in the lexicon. The path of the lexicon file is `\"sent_lexicon\"`.\n"
   ]
  },
  {
   "cell_type": "code",
   "execution_count": 5,
   "metadata": {
    "colab": {
     "base_uri": "https://localhost:8080/"
    },
    "executionInfo": {
     "elapsed": 220,
     "status": "ok",
     "timestamp": 1698047764860,
     "user": {
      "displayName": "XUE LI",
      "userId": "02386889076941396043"
     },
     "user_tz": -120
    },
    "id": "Ogq0Eq2hQglh",
    "outputId": "1c26526d-399e-4558-a1b2-2fa771648f09"
   },
   "outputs": [
    {
     "name": "stdout",
     "output_type": "stream",
     "text": [
      "type=weaksubj len=1 word1=abandoned pos1=adj stemmed1=n priorpolarity=negative\n",
      "type=weaksubj len=1 word1=abandonment pos1=noun stemmed1=n priorpolarity=negative\n",
      "type=weaksubj len=1 word1=abandon pos1=verb stemmed1=y priorpolarity=negative\n",
      "type=strongsubj len=1 word1=abase pos1=verb stemmed1=y priorpolarity=negative\n",
      "type=strongsubj len=1 word1=abasement pos1=anypos stemmed1=y priorpolarity=negative\n"
     ]
    }
   ],
   "source": [
    "with open(\"sent_lexicon\", mode=\"r\", encoding=\"utf-8\") as f:\n",
    "  line_cnt = 0\n",
    "  for line in f:\n",
    "    print(line.strip())\n",
    "    line_cnt += 1\n",
    "    if line_cnt > 4:\n",
    "      break"
   ]
  },
  {
   "cell_type": "markdown",
   "metadata": {
    "id": "Mml4nOtIUBhn"
   },
   "source": [
    "Lexica such as this can be used to solve\n",
    "the classification task without using Machine Learning. For example, one might look up every word $w_1 ... w_n$ in a document, and compute a **binary score**\n",
    "$S_{binary}$ by counting how many words have a positive or a\n",
    "negative label in the sentiment lexicon $SLex$.\n",
    "\n",
    "$$S_{binary}(w_1 w_2 ... w_n) = \\sum_{i = 1}^{n}\\text{sign}(SLex\\big[w_i\\big])$$\n",
    "\n",
    "where $\\text{sign}(SLex\\big[w_i\\big])$ refers to the polarity of $w_i$.\n",
    "\n",
    "**Threshold.** On average, there are more positive than negative words per review (~7.13 more positive than negative per review) to take this bias into account you should use a threshold of **8** (roughly the bias itself) to make it harder to classify as positive.\n",
    "\n",
    "$$\n",
    "\\text{classify}(S_{binary}(w_1 w_2 ... w_n)) = \\bigg\\{\\begin{array}{ll}\n",
    "        \\text{positive} & \\text{if } S_{binary}(w_1w_2...w_n) > threshold\\\\\n",
    "        \\text{negative} & \\text{otherwise}\n",
    "        \\end{array}\n",
    "$$\n"
   ]
  },
  {
   "cell_type": "markdown",
   "metadata": {
    "id": "tOFnMvbeeZrc"
   },
   "source": [
    "#### (Q1.1) Implement this approach and report its classification accuracy. (1 pt)"
   ]
  },
  {
   "cell_type": "code",
   "execution_count": 7,
   "metadata": {
    "id": "ED2aTEYutW1-"
   },
   "outputs": [],
   "source": [
    "# YOUR CODE HERE\n",
    "# create sentiment lexicon\n",
    "sent_lexicon = []\n",
    "with open(\"sent_lexicon\", mode=\"r\", encoding=\"utf-8\") as f:\n",
    "    for line in f:\n",
    "        line = line.strip()\n",
    "        line_split = line.split(' ')\n",
    "        a = dict()\n",
    "        for i in line_split:\n",
    "            b = i.split('=')\n",
    "            a[b[0]] = b[1]\n",
    "        sent_lexicon.append(a)"
   ]
  },
  {
   "cell_type": "code",
   "execution_count": 9,
   "metadata": {},
   "outputs": [],
   "source": [
    "# get sentiment prediction for each review\n",
    "def lexicon_sentiment_prediction(reviews, sent_lexicon, threshold):\n",
    "    predictions = []\n",
    "    words_in_sent_lex = [item['word1'] for item in sent_lexicon]\n",
    "    for review in reviews:\n",
    "        sentiment_score = 0\n",
    "        for sentence in review['content']:\n",
    "            for word, POS in sentence:\n",
    "                if word in words_in_sent_lex:\n",
    "                    index = words_in_sent_lex.index(word)\n",
    "                    lex_polarity = sent_lexicon[index]['priorpolarity']\n",
    "                    if lex_polarity == 'positive':\n",
    "                        sentiment_score += 1\n",
    "                    if lex_polarity == 'negative':\n",
    "                        sentiment_score -= 1\n",
    "        if sentiment_score >= threshold:\n",
    "            prediction = 'POS'\n",
    "        else:\n",
    "            prediction = 'NEG'\n",
    "        predictions.append(prediction)\n",
    "    return predictions\n",
    "\n",
    "predictions = lexicon_sentiment_prediction(reviews, sent_lexicon, 8)"
   ]
  },
  {
   "cell_type": "code",
   "execution_count": 10,
   "metadata": {},
   "outputs": [],
   "source": [
    "# get ground truths\n",
    "truth = [review['sentiment'] for review in reviews]"
   ]
  },
  {
   "cell_type": "code",
   "execution_count": 11,
   "metadata": {
    "id": "iy528EUTphz5"
   },
   "outputs": [
    {
     "name": "stdout",
     "output_type": "stream",
     "text": [
      "Accuracy: 0.681\n"
     ]
    }
   ],
   "source": [
    "# token_results should be a list of binary indicators; for example [1, 0, 1, ...]\n",
    "# where 1 indicates a correct classification and 0 an incorrect classification.\n",
    "token_results = [1 if predictions[i]==truth[i] else 0 for i in range(len(truth))]\n",
    "token_accuracy = sum(token_results)/len(token_results)\n",
    "print(\"Accuracy:\", token_accuracy)"
   ]
  },
  {
   "cell_type": "markdown",
   "metadata": {
    "id": "Twox0s_3eS0V"
   },
   "source": [
    "As the sentiment lexicon also has information about the **magnitude** of\n",
    "sentiment (e.g., *“excellent\"* has the same sentiment _polarity_ as *“good\"* but it has a higher magnitude), we can take a more fine-grained approach by adding up all\n",
    "sentiment scores, and deciding the polarity of the movie review using\n",
    "the sign of the weighted score $S_{weighted}$.\n",
    "\n",
    "$$S_{weighted}(w_1w_2...w_n) = \\sum_{i = 1}^{n}SLex\\big[w_i\\big]$$\n",
    "\n",
    "\n",
    "Make sure you define an appropriate threshold for this approach.\n",
    "\n",
    "#### (Q1.2) Now incorporate magnitude information and report the classification accuracy. Don't forget to use the threshold. (1pt)"
   ]
  },
  {
   "cell_type": "code",
   "execution_count": 12,
   "metadata": {
    "id": "qG3hUDnPtkhS"
   },
   "outputs": [],
   "source": [
    "# YOUR CODE HERE\n",
    "def magnitude_lexicon_sentiment_prediction(reviews, sent_lexicon, threshold, weight):\n",
    "    predictions = []\n",
    "    words_in_sent_lex = [item['word1'] for item in sent_lexicon]\n",
    "    for review in reviews:\n",
    "        sentiment_score = 0\n",
    "        for sentence in review['content']:\n",
    "            for word, POS in sentence:\n",
    "                if word in words_in_sent_lex:\n",
    "                    index = words_in_sent_lex.index(word)\n",
    "                    lex_polarity = sent_lexicon[index]['priorpolarity']\n",
    "                    type = sent_lexicon[index]['type']\n",
    "                    if type == 'strongsubj':\n",
    "                        if lex_polarity == 'positive':\n",
    "                            sentiment_score += weight\n",
    "                        if lex_polarity == 'negative':\n",
    "                            sentiment_score -= weight\n",
    "                    else:\n",
    "                        if lex_polarity == 'positive':\n",
    "                            sentiment_score += 1\n",
    "                        if lex_polarity == 'negative':\n",
    "                            sentiment_score -= 1\n",
    "                    \n",
    "        if sentiment_score >= threshold:\n",
    "            prediction = 'POS'\n",
    "        else:\n",
    "            prediction = 'NEG'\n",
    "        predictions.append(prediction)\n",
    "    return predictions\n",
    "\n",
    "magnitude_predictions = magnitude_lexicon_sentiment_prediction(reviews, sent_lexicon, 16, 2)"
   ]
  },
  {
   "cell_type": "code",
   "execution_count": 13,
   "metadata": {
    "colab": {
     "base_uri": "https://localhost:8080/",
     "height": 141
    },
    "executionInfo": {
     "elapsed": 221,
     "status": "error",
     "timestamp": 1698047779696,
     "user": {
      "displayName": "XUE LI",
      "userId": "02386889076941396043"
     },
     "user_tz": -120
    },
    "id": "9vVk7CvDpyka",
    "outputId": "fb9a09d2-b878-416f-d72c-1c651099c9ed"
   },
   "outputs": [
    {
     "name": "stdout",
     "output_type": "stream",
     "text": [
      "Accuracy: 0.678\n"
     ]
    }
   ],
   "source": [
    "magnitude_results = [1 if magnitude_predictions[i]==truth[i] else 0 for i in range(len(truth))] # a list of binary indicators\n",
    "magnitude_accuracy = sum(magnitude_results)/len(magnitude_results)\n",
    "print(\"Accuracy:\", magnitude_accuracy)"
   ]
  },
  {
   "cell_type": "markdown",
   "metadata": {
    "id": "h9SHoGPfsAHV"
   },
   "source": [
    "#### (Q.1.3) Make a barplot of the two results (0.5pt)"
   ]
  },
  {
   "cell_type": "code",
   "execution_count": 14,
   "metadata": {
    "id": "8LgBcYcXsEk3"
   },
   "outputs": [
    {
     "data": {
      "image/png": "[encoded data removed]",
      "text/plain": [
       "<Figure size 640x480 with 1 Axes>"
      ]
     },
     "metadata": {},
     "output_type": "display_data"
    }
   ],
   "source": [
    "# YOUR CODE HERE\n",
    "plt.bar(['token_accuracy', 'magnitude_accuracy'], [token_accuracy, magnitude_accuracy])\n",
    "plt.show()"
   ]
  },
  {
   "cell_type": "markdown",
   "metadata": {
    "id": "sNhS8OCVxMHd"
   },
   "source": [
    "#### (Q1.4) A better threshold (1pt)\n",
    "Above we have defined a threshold to account for an inherent bias in the dataset: there are more positive than negative words per review.\n",
    "However, that threshold does not take into account *document length*. Explain why this is a problem and implement an alternative way to compute the threshold."
   ]
  },
  {
   "cell_type": "markdown",
   "metadata": {
    "id": "xo7gk1I-omLI"
   },
   "source": [
    "*Write your answer here.*\n",
    "\n",
    "By not taking into account the document length in the threshold, the predictor is not as accurate as it can be. For a longer document, the difference to pass the threshold is relatively smaller than for a shorter document. We can compensate for this problem by dividing the sentiment score by the document length."
   ]
  },
  {
   "cell_type": "code",
   "execution_count": 15,
   "metadata": {
    "id": "Dwt0B8h8aKjr"
   },
   "outputs": [
    {
     "name": "stdout",
     "output_type": "stream",
     "text": [
      "Accuracy: 0.674\n"
     ]
    }
   ],
   "source": [
    "# YOUR CODE HERE\n",
    "def relative_lexicon_sentiment_prediction(reviews, sent_lexicon, threshold):\n",
    "    predictions = []\n",
    "    words_in_sent_lex = [item['word1'] for item in sent_lexicon]\n",
    "    for review in reviews:\n",
    "        sentiment_score = 0\n",
    "        document_length = len(review['content'])\n",
    "        for sentence in review['content']:\n",
    "            for word, POS in sentence:\n",
    "                if word in words_in_sent_lex:\n",
    "                    index = words_in_sent_lex.index(word)\n",
    "                    lex_polarity = sent_lexicon[index]['priorpolarity']\n",
    "                    if lex_polarity == 'positive':\n",
    "                        sentiment_score += 1\n",
    "                    if lex_polarity == 'negative':\n",
    "                        sentiment_score -= 1\n",
    "        if sentiment_score/document_length >= threshold:\n",
    "            prediction = 'POS'\n",
    "        else:\n",
    "            prediction = 'NEG'\n",
    "        predictions.append(prediction)\n",
    "    return predictions\n",
    "\n",
    "relative_predictions = relative_lexicon_sentiment_prediction(reviews, sent_lexicon, 8/20)\n",
    "\n",
    "relative_results = [1 if relative_predictions[i]==truth[i] else 0 for i in range(len(truth))]\n",
    "relative_accuracy = sum(relative_results)/len(relative_results)\n",
    "print(\"Accuracy:\", relative_accuracy)"
   ]
  },
  {
   "cell_type": "markdown",
   "metadata": {
    "id": "LibV4nR89BXb"
   },
   "source": [
    "# (2) Naive Bayes (9.5pts)"
   ]
  },
  {
   "cell_type": "markdown",
   "metadata": {
    "id": "fnF9adQnuwia"
   },
   "source": [
    "\n",
    "Your second task is to program a simple Machine Learning approach that operates\n",
    "on a simple Bag-of-Words (BoW) representation of the text data, as\n",
    "described by Pang et al. (2002). In this approach, the only features we\n",
    "will consider are the words in the text themselves, without bringing in\n",
    "external sources of information. The BoW model is a popular way of\n",
    "representing texts as vectors, making it\n",
    "easy to apply classical Machine Learning algorithms on NLP tasks.\n",
    "However, the BoW representation is also very crude, since it discards\n",
    "all information related to word order and grammatical structure in the\n",
    "original text—as the name suggests.\n",
    "\n",
    "## Writing your own classifier (4pts)\n",
    "\n",
    "Write your own code to implement the Naive Bayes (NB) classifier. As\n",
    "a reminder, the Naive Bayes classifier works according to the following\n",
    "equation:\n",
    "$$\\hat{c} = \\operatorname*{arg\\,max}_{c \\in C} P(c|\\bar{f}) = \\operatorname*{arg\\,max}_{c \\in C} P(c)\\prod^n_{i=1} P(f_i|c)$$\n",
    "where $C = \\{ \\text{POS}, \\text{NEG} \\}$ is the set of possible classes,\n",
    "$\\hat{c} \\in C$ is the most probable class, and $\\bar{f}$ is the feature\n",
    "vector. Remember that we use the log of these probabilities when making\n",
    "a prediction:\n",
    "$$\\hat{c} = \\operatorname*{arg\\,max}_{c \\in C} \\Big\\{\\log P(c) + \\sum^n_{i=1} \\log P(f_i|c)\\Big\\}$$\n",
    "\n",
    "You can find more details about Naive Bayes in [Jurafsky &\n",
    "Martin](https://web.stanford.edu/~jurafsky/slp3/). You can also look at\n",
    "this helpful\n",
    "[pseudo-code](https://nlp.stanford.edu/IR-book/html/htmledition/naive-bayes-text-classification-1.html).\n",
    "\n",
    "*Note: this section and the next aim to put you in a position to replicate\n",
    "    Pang et al.'s Naive Bayes results. However, your numerical results\n",
    "    will differ from theirs, as they used different data.*\n",
    "\n",
    "**You must write the Naive Bayes training and prediction code from\n",
    "scratch.** You will not be given credit for using off-the-shelf Machine\n",
    "Learning libraries.\n",
    "\n",
    "The data contains the text of the reviews, where each document consists\n",
    "of the sentences in the review, the sentiment of the review and an index\n",
    "(cv) that you will later use for cross-validation. The\n",
    "text has already been tokenised and POS-tagged for you. Your algorithm\n",
    "should read in the text, **lowercase it**, store the words and their\n",
    "frequencies in an appropriate data structure that allows for easy\n",
    "computation of the probabilities used in the Naive Bayes algorithm, and\n",
    "then make predictions for new instances.\n"
   ]
  },
  {
   "cell_type": "markdown",
   "metadata": {
    "id": "vEpyQSBSkb33"
   },
   "source": [
    "#### (Q2.1) Unseen words (1pt)\n",
    "The presence of words in the test dataset that\n",
    "have not been seen during training can cause probabilities in the Naive Bayes classifier to equal $0$.\n",
    "These can be words which are unseen in both positive and negative training reviews (case 1), but also words which are seen in reviews _of only one sentiment class_ in the training dataset (case 2). In both cases, **you should skip these words for both classes at test time**.  What would be the problem instead with skipping words only for one class in case 2?"
   ]
  },
  {
   "cell_type": "markdown",
   "metadata": {
    "id": "BanFiYYnoxDW"
   },
   "source": [
    "*The problem with skipping words for only one class would be that it introduces an imbalance in the probability calculations between classes. This selective inclusion means the word contributes to increasing the probability of one class without affecting the other, leading to a biased comparison. By skipping the word for both classes, a fair comparison of the classes is maintained.*"
   ]
  },
  {
   "cell_type": "markdown",
   "metadata": {
    "id": "gsZRhaI3WvzC"
   },
   "source": [
    "#### (Q2.2) Train your classifier on (positive and negative) reviews with cv-value 000-899, and test it on the remaining (positive and negative) reviews cv900–cv999.  Report results using classification accuracy as your evaluation metric. Your  features are the word vocabulary. The value of a feature is the count of that feature (word) in the document. (2pts)\n"
   ]
  },
  {
   "cell_type": "code",
   "execution_count": 16,
   "metadata": {
    "id": "G7zaJYGFvIJ3"
   },
   "outputs": [],
   "source": [
    "# YOUR CODE HERE\n",
    "from nltk.stem.porter import PorterStemmer\n",
    "stemmer = PorterStemmer()\n",
    "\n",
    "def train_NB(classes, reviews, k=0, stemming=False, ngrams_range=(1,1)):\n",
    "    vocab = set()\n",
    "    for review in reviews:\n",
    "        for sentence in review[\"content\"]:\n",
    "            for token, _ in sentence:\n",
    "                token = token.lower()\n",
    "                if stemming:\n",
    "                    token = stemmer.stem(token)\n",
    "                vocab.add(token)\n",
    "    V = len(vocab)                \n",
    "    N = len(reviews)\n",
    "\n",
    "    prior = {}\n",
    "    cond_prob = {}\n",
    "\n",
    "    for sentiment in classes:\n",
    "        # Calculate length of reviews per sentiment and concatenate all text for this sentiment\n",
    "        N_c = 0\n",
    "        text_c = []\n",
    "        for review in reviews:\n",
    "            if review[\"sentiment\"] == sentiment:\n",
    "                N_c += 1\n",
    "                for sentence in review[\"content\"]:\n",
    "                    for token, _ in sentence:\n",
    "                        token = token.lower()\n",
    "                        if stemming:\n",
    "                            token = stemmer.stem(token)\n",
    "                        text_c.append(token)\n",
    "\n",
    "        # Calculate prior\n",
    "        prior[sentiment] = N_c / N\n",
    "\n",
    "        # Calculate conditional probabilities\n",
    "        cond_prob[sentiment] = {}\n",
    "        token_counts = Counter(text_c)\n",
    "        total_tokens_length = len(text_c)\n",
    "\n",
    "        for token in vocab: \n",
    "            count = token_counts[token]\n",
    "            cond_prob[sentiment][token] = (count + k) / (total_tokens_length + k * V)\n",
    "\n",
    "    return vocab, prior, cond_prob"
   ]
  },
  {
   "cell_type": "code",
   "execution_count": 17,
   "metadata": {},
   "outputs": [],
   "source": [
    "def test(classes, vocab, prior, cond_prob, review, stemming=False):\n",
    "    W = set()\n",
    "    zero_prob_tokens = set()\n",
    "    \n",
    "    # Extract tokens from review that also appear in vocab\n",
    "    for sentence in review['content']:\n",
    "        for token, _ in sentence:\n",
    "            token = token.lower()\n",
    "            if stemming:\n",
    "                token = stemmer.stem(token)\n",
    "            if token in vocab:\n",
    "                W.add(token)\n",
    "    \n",
    "    score = {}\n",
    "    for sentiment in classes:\n",
    "        for token in W:\n",
    "            if cond_prob[sentiment][token] == 0:\n",
    "                # Skip the calculation of this token for both sentiments, even if the other sentiment has a non-zero probability\n",
    "                zero_prob_tokens.add(token)\n",
    "            \n",
    "    for sentiment in classes:\n",
    "        score[sentiment] = np.log(prior[sentiment])\n",
    "        for token in W:\n",
    "            if token in zero_prob_tokens:\n",
    "                continue\n",
    "            elif token in cond_prob[sentiment]:\n",
    "                score[sentiment] += np.log(cond_prob[sentiment][token])\n",
    "\n",
    "    return max(score, key=score.get)"
   ]
  },
  {
   "cell_type": "code",
   "execution_count": 18,
   "metadata": {},
   "outputs": [],
   "source": [
    "def calculate_classification_accuracy(classes, vocab, prior, cond_prob, reviews, stemming=False):\n",
    "    correct = 0\n",
    "    for review in reviews:\n",
    "        if test(classes, vocab, prior, cond_prob, review, stemming=stemming) == review['sentiment']:\n",
    "            correct += 1\n",
    "    return correct / len(reviews)"
   ]
  },
  {
   "cell_type": "code",
   "execution_count": 19,
   "metadata": {},
   "outputs": [
    {
     "name": "stdout",
     "output_type": "stream",
     "text": [
      "Training\n",
      "Finished training\n",
      "Testing\n",
      "Finished testing\n",
      "Classification accuracy: 0.86\n"
     ]
    }
   ],
   "source": [
    "classes = ['POS', 'NEG']\n",
    "training = [review for review in reviews if review[\"cv\"] < 900]\n",
    "testing = [review for review in reviews if review[\"cv\"] >= 900 and review[\"cv\"] < 1000]\n",
    "\n",
    "print(\"Training\")\n",
    "vocab, prior, cond_prob = train_NB(classes, training)\n",
    "print(\"Finished training\")\n",
    "\n",
    "print(\"Testing\")\n",
    "accuracy_nb = calculate_classification_accuracy(classes, vocab, prior, cond_prob, testing)\n",
    "print(\"Finished testing\")\n",
    "print(\"Classification accuracy: %.2f\" % accuracy_nb)"
   ]
  },
  {
   "cell_type": "markdown",
   "metadata": {
    "id": "0INK-PBoM6CB"
   },
   "source": [
    "#### (Q2.3) Would you consider accuracy to also be a good way to evaluate your classifier in a situation where 90% of your data instances are of positive movie reviews? (1pt)\n",
    "\n",
    "Simulate this scenario by keeping the positive reviews\n",
    "data unchanged, but only using negative reviews cv000–cv089 for\n",
    "training, and cv900–cv909 for testing. Calculate the classification\n",
    "accuracy, and explain what changed."
   ]
  },
  {
   "cell_type": "markdown",
   "metadata": {
    "id": "oFbcsYlipBAw"
   },
   "source": [
    "*I would not consider accuracy to be a good way to evaluate my classifier in the sitation where 90% of the data instances are of positive movie reviews because the accuracy can give a misleading high value if one class dominates. Consider the example where my classifier would just always predict the positive class, then it would achieve an accuracy of 90%, while it did not manage to capture any meaningful distinction between positive and negative reviews.*"
   ]
  },
  {
   "cell_type": "code",
   "execution_count": 20,
   "metadata": {
    "id": "GWDkt5ZrrFGp"
   },
   "outputs": [
    {
     "name": "stdout",
     "output_type": "stream",
     "text": [
      "Finished training\n",
      "Finished testing\n",
      "Classification accuracy: 0.69\n"
     ]
    }
   ],
   "source": [
    "# YOUR CODE HERE\n",
    "training_negative = [review for review in reviews if review[\"sentiment\"] == \"NEG\" and review[\"cv\"] < 90]\n",
    "training_positive = [review for review in reviews if review[\"sentiment\"] == \"POS\" and review[\"cv\"] < 900]\n",
    "training_imbalanced = training_positive + training_negative\n",
    "\n",
    "vocab, prior, cond_prob = train_NB(classes, training_imbalanced)\n",
    "print(\"Finished training\")\n",
    "accuracy_nb_imbalanced_data = calculate_classification_accuracy(classes, vocab, prior, cond_prob, testing)\n",
    "print(\"Finished testing\")\n",
    "print(\"Classification accuracy: %.2f\" % accuracy_nb_imbalanced_data)"
   ]
  },
  {
   "cell_type": "markdown",
   "metadata": {
    "id": "6wJzcHX3WUDm"
   },
   "source": [
    "## Smoothing (1pt)\n",
    "\n",
    "As mentioned above, the presence of words in the test dataset that\n",
    "have not been seen during training can cause probabilities in the Naive\n",
    "Bayes classifier to be $0$, thus making that particular test instance\n",
    "undecidable. The standard way to mitigate this effect (as well as to\n",
    "give more clout to rare words) is to use smoothing, in which the\n",
    "probability fraction\n",
    "$$\\frac{\\text{count}(w_i, c)}{\\sum\\limits_{w\\in V} \\text{count}(w, c)}$$ for a word\n",
    "$w_i$ becomes\n",
    "$$\\frac{\\text{count}(w_i, c) + \\text{smoothing}(w_i)}{\\sum\\limits_{w\\in V} \\text{count}(w, c) + \\sum\\limits_{w \\in V} \\text{smoothing}(w)}$$\n",
    "\n",
    "\n",
    "\n"
   ]
  },
  {
   "cell_type": "markdown",
   "metadata": {
    "id": "PBNIcbwUWphC"
   },
   "source": [
    "#### (Q2.4) Implement Laplace feature smoothing (1pt)\n",
    "Implement Laplace smoothing, i.e., smoothing with a constant value ($smoothing(w) = \\kappa, \\forall w \\in V$), in your Naive\n",
    "Bayes classifier’s code, and report the accuracy.\n",
    "Use $\\kappa = 1$."
   ]
  },
  {
   "cell_type": "code",
   "execution_count": 21,
   "metadata": {
    "id": "g03yflCc9kpW"
   },
   "outputs": [
    {
     "name": "stdout",
     "output_type": "stream",
     "text": [
      "Finished training\n",
      "Finished testing\n",
      "Classification accuracy: 0.87\n"
     ]
    }
   ],
   "source": [
    "# YOUR CODE HERE\n",
    "vocab, prior, cond_prob = train_NB(classes, training, k=1) # Set k to 1 to add Laplace smoothing\n",
    "print(\"Finished training\")\n",
    "accuracy_nb_smoothing = calculate_classification_accuracy(classes, vocab, prior, cond_prob, testing)\n",
    "print(\"Finished testing\")\n",
    "print(\"Classification accuracy: %.2f\" % accuracy_nb_smoothing)\n"
   ]
  },
  {
   "cell_type": "markdown",
   "metadata": {
    "id": "ZiGcgwba87D5"
   },
   "source": [
    "## Cross-Validation (1.5pts)\n",
    "\n",
    "A serious danger in using Machine Learning on small datasets, with many\n",
    "iterations of slightly different versions of the algorithms, is ending up with Type III errors, also called the “testing hypotheses\n",
    "suggested by the data” errors. This type of error occurs when we make\n",
    "repeated improvements to our classifiers by playing with features and\n",
    "their processing, but we don’t get a fresh, never-before seen test\n",
    "dataset every time. Thus, we risk developing a classifier that gets better\n",
    "and better on our data, but only gets worse at generalizing to new, unseen data. In other words, we risk developping a classifier that overfits.\n",
    "\n",
    "A simple method to guard against Type III errors is to use\n",
    "Cross-Validation. In **N-fold Cross-Validation**, we divide the data into N\n",
    "distinct chunks, or folds. Then, we repeat the experiment N times: each\n",
    "time holding out one of the folds for testing, training our classifier\n",
    "on the remaining N - 1 data folds, and reporting performance on the\n",
    "held-out fold. We can use different strategies for dividing the data:\n",
    "\n",
    "-   Consecutive splitting:\n",
    "  - cv000–cv099 = Split 1\n",
    "  - cv100–cv199 = Split 2\n",
    "  - etc.\n",
    "  \n",
    "-   Round-robin splitting (mod 10):\n",
    "  - cv000, cv010, cv020, … = Split 1\n",
    "  - cv001, cv011, cv021, … = Split 2\n",
    "  - etc.\n",
    "\n",
    "-   Random sampling/splitting\n",
    "  - Not used here (but you may choose to split this way in a non-educational situation)\n",
    "\n"
   ]
  },
  {
   "cell_type": "markdown",
   "metadata": {
    "id": "8OeLcbSauGtR"
   },
   "source": [
    "#### (Q2.5) Write the code to implement 10-fold cross-validation using round-robin splitting for your Naive Bayes classifier from Q2.4 and compute the 10 accuracies. Report the final performance, which is the average of the performances per fold. If all splits perform equally well, this is a good sign. (1pt)"
   ]
  },
  {
   "cell_type": "code",
   "execution_count": 22,
   "metadata": {
    "id": "3KeCGPa7Nuzx"
   },
   "outputs": [],
   "source": [
    "# YOUR CODE HERE\n",
    "def round_robin_split(reviews, k_fold):\n",
    "    splits = [[] for _ in range(k_fold)]\n",
    "    for i, review in enumerate (reviews):\n",
    "        splits[i % k_fold].append(review)\n",
    "    return splits"
   ]
  },
  {
   "cell_type": "code",
   "execution_count": 23,
   "metadata": {},
   "outputs": [],
   "source": [
    "def cross_validation(classes, reviews, k_fold, k=1, stemming=False, ngrams_range=(1,1)):\n",
    "    splits = round_robin_split(reviews, k_fold)\n",
    "    accuracies = []\n",
    "\n",
    "    for i in range(k_fold):\n",
    "        training = []\n",
    "        for j, split in enumerate(splits):\n",
    "            if j != i:\n",
    "                training += split\n",
    "        testing = splits[i]\n",
    "        if ngrams_range!=(1,1):\n",
    "            vocab, prior, cond_prob = train_NB_ngrams(classes, training, k=k, stemming=stemming, ngrams_range=ngrams_range)\n",
    "            accuracy = calculate_classification_accuracy_ngrams(classes, vocab, prior, cond_prob, testing, stemming=stemming, ngrams_range=ngrams_range)\n",
    "        else:\n",
    "            vocab, prior, cond_prob = train_NB(classes, training, k=k, stemming=stemming)\n",
    "            accuracy = calculate_classification_accuracy(classes, vocab, prior, cond_prob, testing, stemming=stemming)\n",
    "        accuracies.append(accuracy)\n",
    "        print(\"Fold\", i, \"Accuracy:\", accuracy)\n",
    "    return accuracies"
   ]
  },
  {
   "cell_type": "code",
   "execution_count": 24,
   "metadata": {},
   "outputs": [
    {
     "name": "stdout",
     "output_type": "stream",
     "text": [
      "Fold 0 Accuracy: 0.8\n",
      "Fold 1 Accuracy: 0.87\n",
      "Fold 2 Accuracy: 0.815\n",
      "Fold 3 Accuracy: 0.875\n",
      "Fold 4 Accuracy: 0.78\n",
      "Fold 5 Accuracy: 0.84\n",
      "Fold 6 Accuracy: 0.815\n",
      "Fold 7 Accuracy: 0.8\n",
      "Fold 8 Accuracy: 0.84\n",
      "Fold 9 Accuracy: 0.83\n",
      "Average accuracy: 0.8265\n"
     ]
    }
   ],
   "source": [
    "accuracies_nb_cv = cross_validation(classes, reviews, 10)\n",
    "print(\"Average accuracy:\", np.mean(accuracies_nb_cv))"
   ]
  },
  {
   "cell_type": "markdown",
   "metadata": {
    "id": "otdlsDXBNyOa"
   },
   "source": [
    "#### (Q2.6) Report the variance of the 10 accuracy scores. (0.5pt)\n",
    "\n",
    "**Please report all future results using 10-fold cross-validation now\n",
    "(unless told to use the held-out test set).** Note: you're not allowed to use a library for computing the variance."
   ]
  },
  {
   "cell_type": "code",
   "execution_count": 25,
   "metadata": {
    "id": "ZoBQm1KuNzNR"
   },
   "outputs": [
    {
     "name": "stdout",
     "output_type": "stream",
     "text": [
      "Variance: 0.0008452499999999993\n"
     ]
    }
   ],
   "source": [
    "# YOUR CODE HERE\n",
    "sum_accuracy = 0\n",
    "for accuracy in accuracies_nb_cv:\n",
    "    sum_accuracy += accuracy\n",
    "mean_accuracy = sum_accuracy / len(accuracies_nb_cv)\n",
    "variance = sum([(accuracy - mean_accuracy) ** 2 for accuracy in accuracies_nb_cv]) / len(accuracies_nb_cv)\n",
    "print(\"Variance:\", variance)"
   ]
  },
  {
   "cell_type": "markdown",
   "metadata": {
    "id": "s6A2zX9_BRKm"
   },
   "source": [
    "## Features, overfitting, and the curse of dimensionality\n",
    "\n",
    "In the Bag-of-Words model, ideally we would like each distinct word in\n",
    "the text to be mapped to its own dimension in the output vector\n",
    "representation. However, real world text is messy, and we need to decide\n",
    "on what we consider to be a word. For example, is “`word`\" different\n",
    "from “`Word`\", from “`word`”, or from “`words`\"? Too strict a\n",
    "definition, and the number of features explodes, while our algorithm\n",
    "fails to learn anything generalisable. Too lax, and we risk destroying\n",
    "our learning signal. In the following section, you will learn about\n",
    "confronting the feature sparsity and the overfitting problems as they\n",
    "occur in NLP classification tasks."
   ]
  },
  {
   "cell_type": "markdown",
   "metadata": {
    "id": "EKK8FNt8VtcZ"
   },
   "source": [
    "### Stemming (1.5pts)\n",
    "\n",
    "To make your algorithm more robust, use stemming and hash different inflections of a word to the same feature in the BoW vector space. Please use the [Porter stemming\n",
    "    algorithm](http://www.nltk.org/howto/stem.html) from NLTK.\n",
    "\n"
   ]
  },
  {
   "cell_type": "code",
   "execution_count": 18,
   "metadata": {
    "id": "NxtCul1IrBi_"
   },
   "outputs": [],
   "source": [
    "# YOUR CODE HERE\n",
    "# I added the code to the train and test functions to handle the stemming in Q2.2"
   ]
  },
  {
   "cell_type": "markdown",
   "metadata": {
    "id": "6SrJ1BeLXTnk"
   },
   "source": [
    "#### (Q2.7): How does the performance of your classifier change when you use stemming on your training and test datasets? (1pt)\n",
    "Use cross-validation to evaluate the classifier.\n"
   ]
  },
  {
   "cell_type": "code",
   "execution_count": 26,
   "metadata": {
    "id": "gYqKBOiIrInT"
   },
   "outputs": [
    {
     "name": "stdout",
     "output_type": "stream",
     "text": [
      "Fold 0 Accuracy: 0.78\n",
      "Fold 1 Accuracy: 0.85\n",
      "Fold 2 Accuracy: 0.805\n",
      "Fold 3 Accuracy: 0.87\n",
      "Fold 4 Accuracy: 0.775\n",
      "Fold 5 Accuracy: 0.825\n",
      "Fold 6 Accuracy: 0.805\n",
      "Fold 7 Accuracy: 0.81\n",
      "Fold 8 Accuracy: 0.845\n",
      "Fold 9 Accuracy: 0.805\n",
      "Average accuracy: 0.817\n",
      "Variance of the accuracies: 0.0008359999999999987\n"
     ]
    }
   ],
   "source": [
    "# YOUR ANSWER HERE\n",
    "accuracies_stemming = cross_validation(classes, reviews, 10, stemming=True)\n",
    "print(\"Average accuracy:\", np.mean(accuracies_stemming))\n",
    "print(\"Variance of the accuracies:\", np.var(accuracies_stemming))"
   ]
  },
  {
   "cell_type": "markdown",
   "metadata": {
    "id": "JkDHVq_1XUVP"
   },
   "source": [
    "#### (Q2.8) What happens to the number of features (i.e., the size of the vocabulary) when using stemming as opposed to (Q2.4)? (0.5pt)\n",
    "Give actual numbers. You can use the held-out training set to determine these."
   ]
  },
  {
   "cell_type": "code",
   "execution_count": 27,
   "metadata": {
    "id": "MA3vee5-rJyy"
   },
   "outputs": [
    {
     "name": "stdout",
     "output_type": "stream",
     "text": [
      "Number of features without stemming: 45348\n",
      "Number of features with stemming: 32404\n"
     ]
    }
   ],
   "source": [
    "# YOUR CODE HERE\n",
    "vocab, prior, cond_prob = train_NB(classes, training, k=1)\n",
    "print(\"Number of features without stemming:\", len(vocab))\n",
    "\n",
    "vocab, prior, cond_prob = train_NB(classes, training, k=1, stemming=True)\n",
    "print(\"Number of features with stemming:\", len(vocab))"
   ]
  },
  {
   "cell_type": "markdown",
   "metadata": {
    "id": "SoazfxbNV5Lq"
   },
   "source": [
    "### N-grams (1.5pts)\n",
    "\n",
    "A simple way of retaining some of the word\n",
    "order information when using bag-of-words representations is to use **n-gram** features.\n",
    "\n",
    "\n",
    "\n",
    "\n"
   ]
  },
  {
   "cell_type": "markdown",
   "metadata": {
    "id": "OHjy3I7-qWiu"
   },
   "source": [
    "#### (Q2.9) Retrain your classifier from (Q2.4) using **unigrams+bigrams** and **unigrams+bigrams+trigrams** as features. (1pt)\n",
    "Report accuracy and compare it with that of the approaches you have previously implemented. You are allowed to use NLTK to build n-grams from sentences."
   ]
  },
  {
   "cell_type": "code",
   "execution_count": 28,
   "metadata": {
    "id": "eYuKMTOpq9jz"
   },
   "outputs": [],
   "source": [
    "# YOUR CODE HERE\n",
    "from nltk import ngrams\n",
    "\n",
    "def preprocess_ngrams(text, ngram_range):\n",
    "    ngrams_list = []\n",
    "    for n in range(ngram_range[0], ngram_range[1] + 1):\n",
    "        ngrams_list += list(ngrams(text, n))\n",
    "    return ngrams_list"
   ]
  },
  {
   "cell_type": "code",
   "execution_count": 29,
   "metadata": {},
   "outputs": [],
   "source": [
    "def train_NB_ngrams(classes, reviews, k=0, stemming=False, ngrams_range=(1,2)):\n",
    "    vocab = set()\n",
    "    for review in reviews:\n",
    "        for sentence in review[\"content\"]:\n",
    "            text = [token.lower() for token, _ in sentence]\n",
    "            ngrams_ = preprocess_ngrams(text, ngrams_range)\n",
    "            for ngram in ngrams_:\n",
    "                vocab.add(ngram)\n",
    "    V = len(vocab)                \n",
    "    N = len(reviews)\n",
    "\n",
    "    prior = {}\n",
    "    cond_prob = {}\n",
    "\n",
    "    for sentiment in classes:\n",
    "        # Calculate length of reviews per sentiment and concatenate all text for this sentiment\n",
    "        N_c = 0\n",
    "        text_c = []\n",
    "        for review in reviews:\n",
    "            if review[\"sentiment\"] == sentiment:\n",
    "                N_c += 1\n",
    "                for sentence in review[\"content\"]:\n",
    "                    text = [token.lower() for token, _ in sentence]\n",
    "                    ngrams_ = preprocess_ngrams(text, ngrams_range)\n",
    "                    for ngram in ngrams_:\n",
    "                        text_c.append(ngram)\n",
    "\n",
    "        # Calculate prior\n",
    "        prior[sentiment] = N_c / N\n",
    "\n",
    "        # Calculate conditional probabilities\n",
    "        cond_prob[sentiment] = {}\n",
    "        token_counts = Counter(text_c)\n",
    "        total_tokens_length = len(text_c)\n",
    "\n",
    "        for token in vocab:\n",
    "            count = token_counts[token]\n",
    "            cond_prob[sentiment][token] = (count + k) / (total_tokens_length + k * V)\n",
    "\n",
    "    return vocab, prior, cond_prob"
   ]
  },
  {
   "cell_type": "code",
   "execution_count": 30,
   "metadata": {},
   "outputs": [],
   "source": [
    "def test_ngrams(classes, vocab, prior, cond_prob, review, stemming=False, ngrams_range=(1,1)):\n",
    "    W = set()\n",
    "    zero_prob_tokens = set()\n",
    "\n",
    "    for sentence in review['content']:\n",
    "        text = [token.lower() for token, _ in sentence]\n",
    "        if stemming:\n",
    "            text = [stemmer.stem(token) for token in text]\n",
    "        ngrams_ = preprocess_ngrams(text, ngrams_range)\n",
    "        for ngram in ngrams_:\n",
    "            if ngram in vocab:\n",
    "                W.add(ngram)\n",
    "\n",
    "    for sentiment in classes:\n",
    "        for token in W:\n",
    "            if cond_prob[sentiment][token] == 0:\n",
    "                zero_prob_tokens.add(token)\n",
    "    \n",
    "    score = {}\n",
    "    for sentiment in classes:\n",
    "        score[sentiment] = np.log(prior[sentiment])\n",
    "        for token in W:\n",
    "            if token in zero_prob_tokens:\n",
    "                continue\n",
    "            elif token in cond_prob[sentiment]:\n",
    "                score[sentiment] += np.log(cond_prob[sentiment][token])\n",
    "                \n",
    "    return max(score, key=score.get)\n"
   ]
  },
  {
   "cell_type": "code",
   "execution_count": 31,
   "metadata": {},
   "outputs": [],
   "source": [
    "def calculate_classification_accuracy_ngrams(classes, vocab, prior, cond_prob, reviews, stemming=False, ngrams_range=(1,1)):\n",
    "    correct = 0\n",
    "    for review in reviews:\n",
    "        if test_ngrams(classes, vocab, prior, cond_prob, review, stemming=stemming, ngrams_range=ngrams_range) == review['sentiment']:\n",
    "            correct += 1\n",
    "    return correct / len(reviews)"
   ]
  },
  {
   "cell_type": "code",
   "execution_count": 32,
   "metadata": {},
   "outputs": [
    {
     "name": "stdout",
     "output_type": "stream",
     "text": [
      "Fold 0 Accuracy: 0.815\n",
      "Fold 1 Accuracy: 0.88\n",
      "Fold 2 Accuracy: 0.845\n",
      "Fold 3 Accuracy: 0.89\n",
      "Fold 4 Accuracy: 0.835\n",
      "Fold 5 Accuracy: 0.89\n",
      "Fold 6 Accuracy: 0.825\n",
      "Fold 7 Accuracy: 0.835\n",
      "Fold 8 Accuracy: 0.88\n",
      "Fold 9 Accuracy: 0.855\n",
      "Average accuracy unigrams+bigrams: 0.8549999999999999\n",
      "Fold 0 Accuracy: 0.815\n",
      "Fold 1 Accuracy: 0.86\n",
      "Fold 2 Accuracy: 0.855\n",
      "Fold 3 Accuracy: 0.89\n",
      "Fold 4 Accuracy: 0.835\n",
      "Fold 5 Accuracy: 0.88\n",
      "Fold 6 Accuracy: 0.85\n",
      "Fold 7 Accuracy: 0.845\n",
      "Fold 8 Accuracy: 0.905\n",
      "Fold 9 Accuracy: 0.85\n",
      "Average accuracy unigrams+bigrams+trigrams: 0.8585\n"
     ]
    }
   ],
   "source": [
    "accuracies_uni_bigrams = cross_validation(classes, reviews, 10, stemming=False, ngrams_range=(1,2))\n",
    "print(\"Average accuracy unigrams+bigrams:\", np.mean(accuracies_uni_bigrams))\n",
    "accuracies_uni_bi_trigrams = cross_validation(classes, reviews, 10, stemming=False, ngrams_range=(1,3))\n",
    "print(\"Average accuracy unigrams+bigrams+trigrams:\", np.mean(accuracies_uni_bi_trigrams))"
   ]
  },
  {
   "cell_type": "markdown",
   "metadata": {
    "id": "dVrGGArkrWoL"
   },
   "source": [
    "\n",
    "#### Q2.10: How many features does the BoW model have to take into account now? (0.5pt)\n",
    "How would you expect the number of features to increase theoretically (e.g., linear, square, cubed, exponential)? How do the number of features increase in the held-out training set (compared to Q2.8)? Do you expect this rate of increase to continue for (much) larger n-grams?\n",
    "\n",
    "Use the held-out training set once again for this.\n"
   ]
  },
  {
   "cell_type": "markdown",
   "metadata": {
    "id": "yEGZ9SV8pPaa"
   },
   "source": [
    "*I would expect the number of features to increase exponentially as we increase the size of n-grams. This is because each additional n-gram size captures an increasing number of unique word combinations, leading to a rapid increase in the feature space. The number of features increases from 45,348 (without stemming, with stemming 32,404) to 465,262 for unigrams+bigrams and to 1,346,107 for unigrams+bigrams+trigrams. This is a very rapid increase but not an exponential increase. I do expect this rate of increase to continue for larger n-grams, since the larger the n-grams become, the more different combinations of phrases you have to store in your vocabulary and thus the more features you get.*"
   ]
  },
  {
   "cell_type": "code",
   "execution_count": 33,
   "metadata": {
    "id": "_z8sAJeUrdtM"
   },
   "outputs": [
    {
     "name": "stdout",
     "output_type": "stream",
     "text": [
      "Number of features without stemming for unigrams+bigrams: 465262\n",
      "Number of features for unigrams+bigrams+trigrams: 1346107\n"
     ]
    }
   ],
   "source": [
    "# YOUR CODE HERE\n",
    "vocab, prior, cond_prob = train_NB_ngrams(classes, training, k=1, ngrams_range=(1,2))\n",
    "print(\"Number of features without stemming for unigrams+bigrams:\", len(vocab))\n",
    "vocab, prior, cond_prob = train_NB_ngrams(classes, training, k=1, ngrams_range=(1,3))\n",
    "print(\"Number of features for unigrams+bigrams+trigrams:\", len(vocab))"
   ]
  },
  {
   "cell_type": "markdown",
   "metadata": {
    "id": "CHWKDL3YV6vh"
   },
   "source": [
    "# (3) Support Vector Machines (4pts)"
   ]
  },
  {
   "cell_type": "markdown",
   "metadata": {
    "id": "hJSYhcVaoJGt"
   },
   "source": [
    "Though simple to understand, implement, and debug, one\n",
    "major problem with the Naive Bayes classifier is that its performance\n",
    "deteriorates (becomes skewed) when it is being used with features which\n",
    "are not independent (i.e., are correlated). Another popular classifier\n",
    "that doesn’t scale as well to big data, and is not as simple to debug as\n",
    "Naive Bayes, but that doesn’t assume feature independence is the Support\n",
    "Vector Machine (SVM) classifier.\n",
    "\n",
    "You can find more details about SVMs in Chapter 7 of Bishop: Pattern Recognition and Machine Learning.\n",
    "Other sources for learning SVM:\n",
    "* http://web.mit.edu/zoya/www/SVM.pdf\n",
    "* http://www.cs.columbia.edu/~kathy/cs4701/documents/jason_svm_tutorial.pdf\n",
    "* https://pythonprogramming.net/support-vector-machine-intro-machine-learning-tutorial/\n",
    "\n",
    "\n",
    "\n",
    "\n",
    "\n",
    "\n",
    "\n",
    "Use the scikit-learn implementation of\n",
    "[SVM](http://scikit-learn.org/stable/modules/svm.html) with the default parameters. (You are not expected to perform any hyperparameter tuning, but feel free to do it if you think it gives you good insights for the discussion in question 5.)\n",
    "\n"
   ]
  },
  {
   "cell_type": "markdown",
   "metadata": {
    "id": "0LnzNtQBV8gr"
   },
   "source": [
    "#### (Q3.1): Train SVM and compare to Naive Bayes (2pts)\n",
    "\n",
    "Train an SVM classifier (sklearn.svm.LinearSVC) using the features collected for Naive Bayes. Compare the\n",
    "classification performance of the SVM classifier to that of the Naive\n",
    "Bayes classifier with smoothing.\n",
    "Use cross-validation to evaluate the performance of the classifiers.\n",
    "\n"
   ]
  },
  {
   "cell_type": "code",
   "execution_count": 11,
   "metadata": {
    "id": "JBscui8Mvoz0"
   },
   "outputs": [
    {
     "name": "stderr",
     "output_type": "stream",
     "text": [
      "C:\\Users\\marij\\anaconda3\\Lib\\site-packages\\sklearn\\svm\\_classes.py:31: FutureWarning: The default value of `dual` will change from `True` to `'auto'` in 1.5. Set the value of `dual` explicitly to suppress the warning.\n",
      "  warnings.warn(\n",
      "C:\\Users\\marij\\anaconda3\\Lib\\site-packages\\sklearn\\svm\\_base.py:1237: ConvergenceWarning: Liblinear failed to converge, increase the number of iterations.\n",
      "  warnings.warn(\n"
     ]
    }
   ],
   "source": [
    "# YOUR CODE HERE\n",
    "from sklearn.model_selection import cross_validate\n",
    "clf = sk.svm.LinearSVC()\n",
    "bag_of_words = []\n",
    "for review in reviews:\n",
    "    bow_review = []\n",
    "    for sentence in review['content']:\n",
    "        for word, POS in sentence:\n",
    "            bow_review.append(word)\n",
    "    bag_of_words.append(bow_review)\n",
    "\n",
    "unique_words = []\n",
    "for r in bag_of_words:\n",
    "    for word in r:\n",
    "        if word not in unique_words:\n",
    "            unique_words.append(word)\n",
    "\n",
    "s = []\n",
    "for b in bag_of_words:\n",
    "    m = np.zeros(len(unique_words))\n",
    "    for word in b:\n",
    "        m[unique_words.index(word)] += 1\n",
    "    s.append(m)\n",
    "s = np.array(s)\n",
    "\n",
    "Y = [review['sentiment'] for review in reviews]\n",
    "model = clf.fit(s, Y)"
   ]
  },
  {
   "cell_type": "code",
   "execution_count": 35,
   "metadata": {},
   "outputs": [
    {
     "name": "stderr",
     "output_type": "stream",
     "text": [
      "C:\\Users\\marij\\anaconda3\\Lib\\site-packages\\sklearn\\svm\\_classes.py:31: FutureWarning: The default value of `dual` will change from `True` to `'auto'` in 1.5. Set the value of `dual` explicitly to suppress the warning.\n",
      "  warnings.warn(\n",
      "C:\\Users\\marij\\anaconda3\\Lib\\site-packages\\sklearn\\svm\\_classes.py:31: FutureWarning: The default value of `dual` will change from `True` to `'auto'` in 1.5. Set the value of `dual` explicitly to suppress the warning.\n",
      "  warnings.warn(\n",
      "C:\\Users\\marij\\anaconda3\\Lib\\site-packages\\sklearn\\svm\\_base.py:1237: ConvergenceWarning: Liblinear failed to converge, increase the number of iterations.\n",
      "  warnings.warn(\n",
      "C:\\Users\\marij\\anaconda3\\Lib\\site-packages\\sklearn\\svm\\_classes.py:31: FutureWarning: The default value of `dual` will change from `True` to `'auto'` in 1.5. Set the value of `dual` explicitly to suppress the warning.\n",
      "  warnings.warn(\n",
      "C:\\Users\\marij\\anaconda3\\Lib\\site-packages\\sklearn\\svm\\_base.py:1237: ConvergenceWarning: Liblinear failed to converge, increase the number of iterations.\n",
      "  warnings.warn(\n",
      "C:\\Users\\marij\\anaconda3\\Lib\\site-packages\\sklearn\\svm\\_classes.py:31: FutureWarning: The default value of `dual` will change from `True` to `'auto'` in 1.5. Set the value of `dual` explicitly to suppress the warning.\n",
      "  warnings.warn(\n",
      "C:\\Users\\marij\\anaconda3\\Lib\\site-packages\\sklearn\\svm\\_base.py:1237: ConvergenceWarning: Liblinear failed to converge, increase the number of iterations.\n",
      "  warnings.warn(\n",
      "C:\\Users\\marij\\anaconda3\\Lib\\site-packages\\sklearn\\svm\\_classes.py:31: FutureWarning: The default value of `dual` will change from `True` to `'auto'` in 1.5. Set the value of `dual` explicitly to suppress the warning.\n",
      "  warnings.warn(\n",
      "C:\\Users\\marij\\anaconda3\\Lib\\site-packages\\sklearn\\svm\\_base.py:1237: ConvergenceWarning: Liblinear failed to converge, increase the number of iterations.\n",
      "  warnings.warn(\n",
      "C:\\Users\\marij\\anaconda3\\Lib\\site-packages\\sklearn\\svm\\_classes.py:31: FutureWarning: The default value of `dual` will change from `True` to `'auto'` in 1.5. Set the value of `dual` explicitly to suppress the warning.\n",
      "  warnings.warn(\n",
      "C:\\Users\\marij\\anaconda3\\Lib\\site-packages\\sklearn\\svm\\_classes.py:31: FutureWarning: The default value of `dual` will change from `True` to `'auto'` in 1.5. Set the value of `dual` explicitly to suppress the warning.\n",
      "  warnings.warn(\n",
      "C:\\Users\\marij\\anaconda3\\Lib\\site-packages\\sklearn\\svm\\_base.py:1237: ConvergenceWarning: Liblinear failed to converge, increase the number of iterations.\n",
      "  warnings.warn(\n",
      "C:\\Users\\marij\\anaconda3\\Lib\\site-packages\\sklearn\\svm\\_classes.py:31: FutureWarning: The default value of `dual` will change from `True` to `'auto'` in 1.5. Set the value of `dual` explicitly to suppress the warning.\n",
      "  warnings.warn(\n",
      "C:\\Users\\marij\\anaconda3\\Lib\\site-packages\\sklearn\\svm\\_classes.py:31: FutureWarning: The default value of `dual` will change from `True` to `'auto'` in 1.5. Set the value of `dual` explicitly to suppress the warning.\n",
      "  warnings.warn(\n",
      "C:\\Users\\marij\\anaconda3\\Lib\\site-packages\\sklearn\\svm\\_classes.py:31: FutureWarning: The default value of `dual` will change from `True` to `'auto'` in 1.5. Set the value of `dual` explicitly to suppress the warning.\n",
      "  warnings.warn(\n",
      "C:\\Users\\marij\\anaconda3\\Lib\\site-packages\\sklearn\\svm\\_base.py:1237: ConvergenceWarning: Liblinear failed to converge, increase the number of iterations.\n",
      "  warnings.warn(\n"
     ]
    }
   ],
   "source": [
    "#cross-validation results for Support Vector Machine\n",
    "cv_results = cross_validate(model, s, Y, cv=10)"
   ]
  },
  {
   "cell_type": "code",
   "execution_count": 36,
   "metadata": {},
   "outputs": [],
   "source": [
    "SVM_accuracies = cv_results['test_score']"
   ]
  },
  {
   "cell_type": "code",
   "execution_count": 80,
   "metadata": {},
   "outputs": [
    {
     "name": "stdout",
     "output_type": "stream",
     "text": [
      "Average accuracy for Support Vector Machine:      0.836\n",
      "Average accuracy for Naive Bayes with smoothing:  0.87\n"
     ]
    }
   ],
   "source": [
    "print(\"Average accuracy for Support Vector Machine:     \", np.mean(SVM_accuracies))\n",
    "print(\"Average accuracy for Naive Bayes with smoothing: \", np.mean(accuracy_nb_smoothing))"
   ]
  },
  {
   "cell_type": "markdown",
   "metadata": {
    "id": "ifXVWcK0V9qY"
   },
   "source": [
    "### POS disambiguation (2pts)\n",
    "\n",
    "Now add in part-of-speech features. You will find the\n",
    "movie review dataset has already been POS-tagged for you ([here](https://catalog.ldc.upenn.edu/docs/LDC99T42/tagguid1.pdf) you find the tagset). Try to\n",
    "replicate the results obtained by Pang et al. (2002).\n",
    "\n"
   ]
  },
  {
   "cell_type": "markdown",
   "metadata": {
    "id": "xA3I82o4oWGu"
   },
   "source": [
    "####(Q3.2) Replace your features with word+POS features, and report performance with the SVM. Use cross-validation to evaluate the classifier and compare the results with (Q3.1). Does part-of-speech information help? Explain why this may be the case. (1pt)\n"
   ]
  },
  {
   "cell_type": "code",
   "execution_count": 12,
   "metadata": {
    "id": "NOvjYe-t2Br6"
   },
   "outputs": [
    {
     "name": "stderr",
     "output_type": "stream",
     "text": [
      "C:\\Users\\marij\\anaconda3\\Lib\\site-packages\\sklearn\\svm\\_classes.py:31: FutureWarning: The default value of `dual` will change from `True` to `'auto'` in 1.5. Set the value of `dual` explicitly to suppress the warning.\n",
      "  warnings.warn(\n",
      "C:\\Users\\marij\\anaconda3\\Lib\\site-packages\\sklearn\\svm\\_base.py:1237: ConvergenceWarning: Liblinear failed to converge, increase the number of iterations.\n",
      "  warnings.warn(\n",
      "C:\\Users\\marij\\anaconda3\\Lib\\site-packages\\sklearn\\svm\\_classes.py:31: FutureWarning: The default value of `dual` will change from `True` to `'auto'` in 1.5. Set the value of `dual` explicitly to suppress the warning.\n",
      "  warnings.warn(\n",
      "C:\\Users\\marij\\anaconda3\\Lib\\site-packages\\sklearn\\svm\\_classes.py:31: FutureWarning: The default value of `dual` will change from `True` to `'auto'` in 1.5. Set the value of `dual` explicitly to suppress the warning.\n",
      "  warnings.warn(\n",
      "C:\\Users\\marij\\anaconda3\\Lib\\site-packages\\sklearn\\svm\\_base.py:1237: ConvergenceWarning: Liblinear failed to converge, increase the number of iterations.\n",
      "  warnings.warn(\n",
      "C:\\Users\\marij\\anaconda3\\Lib\\site-packages\\sklearn\\svm\\_classes.py:31: FutureWarning: The default value of `dual` will change from `True` to `'auto'` in 1.5. Set the value of `dual` explicitly to suppress the warning.\n",
      "  warnings.warn(\n",
      "C:\\Users\\marij\\anaconda3\\Lib\\site-packages\\sklearn\\svm\\_base.py:1237: ConvergenceWarning: Liblinear failed to converge, increase the number of iterations.\n",
      "  warnings.warn(\n",
      "C:\\Users\\marij\\anaconda3\\Lib\\site-packages\\sklearn\\svm\\_classes.py:31: FutureWarning: The default value of `dual` will change from `True` to `'auto'` in 1.5. Set the value of `dual` explicitly to suppress the warning.\n",
      "  warnings.warn(\n",
      "C:\\Users\\marij\\anaconda3\\Lib\\site-packages\\sklearn\\svm\\_base.py:1237: ConvergenceWarning: Liblinear failed to converge, increase the number of iterations.\n",
      "  warnings.warn(\n",
      "C:\\Users\\marij\\anaconda3\\Lib\\site-packages\\sklearn\\svm\\_classes.py:31: FutureWarning: The default value of `dual` will change from `True` to `'auto'` in 1.5. Set the value of `dual` explicitly to suppress the warning.\n",
      "  warnings.warn(\n",
      "C:\\Users\\marij\\anaconda3\\Lib\\site-packages\\sklearn\\svm\\_base.py:1237: ConvergenceWarning: Liblinear failed to converge, increase the number of iterations.\n",
      "  warnings.warn(\n",
      "C:\\Users\\marij\\anaconda3\\Lib\\site-packages\\sklearn\\svm\\_classes.py:31: FutureWarning: The default value of `dual` will change from `True` to `'auto'` in 1.5. Set the value of `dual` explicitly to suppress the warning.\n",
      "  warnings.warn(\n",
      "C:\\Users\\marij\\anaconda3\\Lib\\site-packages\\sklearn\\svm\\_classes.py:31: FutureWarning: The default value of `dual` will change from `True` to `'auto'` in 1.5. Set the value of `dual` explicitly to suppress the warning.\n",
      "  warnings.warn(\n",
      "C:\\Users\\marij\\anaconda3\\Lib\\site-packages\\sklearn\\svm\\_base.py:1237: ConvergenceWarning: Liblinear failed to converge, increase the number of iterations.\n",
      "  warnings.warn(\n",
      "C:\\Users\\marij\\anaconda3\\Lib\\site-packages\\sklearn\\svm\\_classes.py:31: FutureWarning: The default value of `dual` will change from `True` to `'auto'` in 1.5. Set the value of `dual` explicitly to suppress the warning.\n",
      "  warnings.warn(\n",
      "C:\\Users\\marij\\anaconda3\\Lib\\site-packages\\sklearn\\svm\\_base.py:1237: ConvergenceWarning: Liblinear failed to converge, increase the number of iterations.\n",
      "  warnings.warn(\n",
      "C:\\Users\\marij\\anaconda3\\Lib\\site-packages\\sklearn\\svm\\_classes.py:31: FutureWarning: The default value of `dual` will change from `True` to `'auto'` in 1.5. Set the value of `dual` explicitly to suppress the warning.\n",
      "  warnings.warn(\n",
      "C:\\Users\\marij\\anaconda3\\Lib\\site-packages\\sklearn\\svm\\_classes.py:31: FutureWarning: The default value of `dual` will change from `True` to `'auto'` in 1.5. Set the value of `dual` explicitly to suppress the warning.\n",
      "  warnings.warn(\n",
      "C:\\Users\\marij\\anaconda3\\Lib\\site-packages\\sklearn\\svm\\_base.py:1237: ConvergenceWarning: Liblinear failed to converge, increase the number of iterations.\n",
      "  warnings.warn(\n"
     ]
    }
   ],
   "source": [
    "# YOUR CODE HERE\n",
    "# get words + POS\n",
    "words_POS = []\n",
    "for review in reviews:\n",
    "    r = []\n",
    "    for sentence in review['content']:\n",
    "        for word, POS in sentence:\n",
    "            r.append((word, POS))\n",
    "    words_POS.append(r)\n",
    "    \n",
    "unique_words_POS = []\n",
    "for review in words_POS:\n",
    "    for word_part in review:\n",
    "        if word_part not in unique_words_POS:\n",
    "            unique_words_POS.append(word_part)\n",
    "\n",
    "sparse_matrix_POS = []\n",
    "for x in words_POS:\n",
    "    f = np.zeros(len(unique_words_POS))\n",
    "    for w_p in x:\n",
    "        f[unique_words_POS.index(w_p)] += 1\n",
    "    sparse_matrix_POS.append(f)\n",
    "sparse_matrix_POS = np.array(sparse_matrix_POS)\n",
    "\n",
    "# LinearSVM run with words + POS\n",
    "model_POS = clf.fit(sparse_matrix_POS, Y)\n",
    "POS_results = cross_validate(model_POS, sparse_matrix_POS, Y, cv=10)\n",
    "POS_accuracies = POS_results['test_score']"
   ]
  },
  {
   "cell_type": "code",
   "execution_count": null,
   "metadata": {},
   "outputs": [],
   "source": [
    "print(\"Average accuracy for SVM using only words:                \", np.mean(SVM_accuracies))\n",
    "print(\"Average accuracy for SVM using words and parts of speech: \", np.mean(POS_accuracies))"
   ]
  },
  {
   "cell_type": "markdown",
   "metadata": {
    "id": "L0dt_oQupUNe"
   },
   "source": [
    "*Write your answer here.*\n",
    "\n",
    "The accuracy of using the word and the part of speech together is higher than when you only use words as a feature. This makes sense as the part of speech of a word can tell us something of how this word is used in the movie review. For example, a word might be more likely to indicate a positive review when used as a noun, but more likely to indicate a negative review when used as a verb."
   ]
  },
  {
   "cell_type": "markdown",
   "metadata": {
    "id": "Su-3w87eMW0w"
   },
   "source": [
    "#### (Q3.3) Discard all closed-class words from your data (keep only nouns, verbs, adjectives, and adverbs), and report performance. Does this help? Use cross-validation to evaluate the classifier and compare the results with (Q3.2). Are closed-class words detrimental to the classifier? Explain why this may be the case. (1pt)"
   ]
  },
  {
   "cell_type": "code",
   "execution_count": 236,
   "metadata": {},
   "outputs": [],
   "source": [
    "# open_class_words = []\n",
    "# for review in reviews[:50]:\n",
    "#     ocw = []\n",
    "#     for sentence in review['content']:\n",
    "#         for word, POS in sentence:\n",
    "#             if POS in ['NN', 'NNS', 'JJ', 'JJR', 'JJS', 'NNP', 'NNPS', 'RB', 'RBR', 'RBS', 'VB', 'VBD', 'VBG', 'VBN', 'VBP', 'VBZ']:\n",
    "#                 ocw.append(word)\n",
    "#     open_class_words.append(ocw)\n",
    "\n",
    "# print(open_class_words)\n",
    "\n",
    "# open_class_words = []\n",
    "# for review in reviews[:10]:\n",
    "#     ocw = []\n",
    "#     for sentence in review['content']:\n",
    "#         for word, POS in sentence:\n",
    "#             if POS in ['NN', 'NNS', 'JJ', 'JJR', 'JJS', 'NNP', 'NNPS', 'RB', 'RBR', 'RBS', 'VB', 'VBD', 'VBG', 'VBN', 'VBP', 'VBZ']:\n",
    "#                 ocw.append((word, POS))\n",
    "#     open_class_words.append(ocw)"
   ]
  },
  {
   "cell_type": "code",
   "execution_count": 13,
   "metadata": {
    "id": "CCUPlPozCYUX"
   },
   "outputs": [
    {
     "ename": "MemoryError",
     "evalue": "Unable to allocate 362. GiB for an array with shape (782808, 61990) and data type float64",
     "output_type": "error",
     "traceback": [
      "\u001b[1;31m---------------------------------------------------------------------------\u001b[0m",
      "\u001b[1;31mMemoryError\u001b[0m                               Traceback (most recent call last)",
      "Cell \u001b[1;32mIn[13], line 23\u001b[0m\n\u001b[0;32m     21\u001b[0m         v[unique_open_class_words\u001b[38;5;241m.\u001b[39mindex(w_p)] \u001b[38;5;241m+\u001b[39m\u001b[38;5;241m=\u001b[39m \u001b[38;5;241m1\u001b[39m\n\u001b[0;32m     22\u001b[0m         sparse_matrix_open_class\u001b[38;5;241m.\u001b[39mappend(v)\n\u001b[1;32m---> 23\u001b[0m sparse_matrix_open_class \u001b[38;5;241m=\u001b[39m np\u001b[38;5;241m.\u001b[39marray(sparse_matrix_open_class)\n",
      "\u001b[1;31mMemoryError\u001b[0m: Unable to allocate 362. GiB for an array with shape (782808, 61990) and data type float64"
     ]
    }
   ],
   "source": [
    "# YOUR CODE HERE\n",
    "open_class_parts_of_speech_categories = ['NN', 'NNS', 'JJ', 'JJR', 'JJS', 'NNP', 'NNPS', 'RB', 'RBR', 'RBS', 'VB', 'VBD', 'VBG', 'VBN', 'VBP', 'VBZ']\n",
    "\n",
    "words_POS_open_class = []\n",
    "for w_p in words_POS:\n",
    "    open_class_review = []\n",
    "    for word in w_p:\n",
    "        if word[1] in open_class_parts_of_speech_categories:\n",
    "            open_class_review.append(word)\n",
    "    words_POS_open_class.append(open_class_review)\n",
    "\n",
    "unique_open_class_words = []\n",
    "for uwp in unique_words_POS:\n",
    "    if uwp[1] in open_class_parts_of_speech_categories:\n",
    "        unique_open_class_words.append(uwp)\n",
    "\n",
    "sparse_matrix_open_class = []\n",
    "for w in words_POS_open_class:\n",
    "    v = np.zeros(len(unique_open_class_words))\n",
    "    for w_p in w:\n",
    "        v[unique_open_class_words.index(w_p)] += 1\n",
    "        sparse_matrix_open_class.append(v)\n",
    "sparse_matrix_open_class = np.array(sparse_matrix_open_class)"
   ]
  },
  {
   "cell_type": "code",
   "execution_count": null,
   "metadata": {},
   "outputs": [],
   "source": [
    "model_open_class = clf.fit(sparse_matrix_open_class, Y)"
   ]
  },
  {
   "cell_type": "code",
   "execution_count": null,
   "metadata": {},
   "outputs": [],
   "source": [
    "open_class_results = cross_validate(model_open_class, sparse_matrix_open_class, Y, cv=10)\n",
    "open_class_accuracies = open_class_results['test_score']"
   ]
  },
  {
   "cell_type": "code",
   "execution_count": null,
   "metadata": {},
   "outputs": [],
   "source": [
    "print(\"Average accuracy for SVM using all words and parts of speech:              \", np.mean())\n",
    "print(\"Average accuracy for SVM using only open class words and parts of speech : \", np.mean())"
   ]
  },
  {
   "cell_type": "markdown",
   "metadata": {
    "id": "YaxCVrs8pWSp"
   },
   "source": [
    "*Write your answer here.*\n",
    "\n",
    "- add based on results here\n",
    "\n",
    "Closed-class words can be detrimental to the classifier because they contain less content than open class words. Closed class words are words like 'it', 'and', 'they' and 'because', which don't tell us a lot about if it is a negative or positive movie review. Open class words, on the other hand contain a lot of information about the sentiment of the analysis"
   ]
  },
  {
   "cell_type": "markdown",
   "metadata": {
    "id": "nfwqOciAl2No"
   },
   "source": [
    "# (4) Discussion (max. 500 words). (5pts)\n",
    "\n",
    "> Based on your experiments, what are the effective features and techniques in sentiment analysis? What information do different features encode?\n",
    "Why is this important? What are the limitations of these features and techniques?\n",
    "\n"
   ]
  },
  {
   "cell_type": "markdown",
   "metadata": {
    "id": "ZYuse5WLmekZ"
   },
   "source": [
    "*Write your answer here in up to 500 words (-0.25pt for >50 extra words, -0.5 points for >100 extra words, ...)*.\n"
   ]
  },
  {
   "cell_type": "markdown",
   "metadata": {
    "id": "iwaKwfWQhRk_"
   },
   "source": [
    "# Submission\n"
   ]
  },
  {
   "cell_type": "code",
   "execution_count": 30,
   "metadata": {
    "id": "aOUeaET5ijk-"
   },
   "outputs": [],
   "source": [
    "# Write your names and student numbers here:\n",
    "# Student 1 #12345\n",
    "# Student 2 #12345"
   ]
  },
  {
   "cell_type": "markdown",
   "metadata": {
    "id": "3A9K-H6Tii3X"
   },
   "source": [
    "**That's it!**\n",
    "\n",
    "- Check if you answered all questions fully and correctly.\n",
    "- Download your completed notebook using `File -> Download .ipynb`\n",
    "- Check if your answers are all included in the file you submit.\n",
    "- Submit your .ipynb file via *Canvas*. One submission per group."
   ]
  },
  {
   "cell_type": "code",
   "execution_count": null,
   "metadata": {
    "id": "YHslatYAKBrF"
   },
   "outputs": [],
   "source": []
  }
 ],
 "metadata": {
  "colab": {
   "provenance": []
  },
  "kernelspec": {
   "display_name": "Python 3 (ipykernel)",
   "language": "python",
   "name": "python3"
  },
  "language_info": {
   "codemirror_mode": {
    "name": "ipython",
    "version": 3
   },
   "file_extension": ".py",
   "mimetype": "text/x-python",
   "name": "python",
   "nbconvert_exporter": "python",
   "pygments_lexer": "ipython3",
   "version": "3.12.4"
  }
 },
 "nbformat": 4,
 "nbformat_minor": 4
}
